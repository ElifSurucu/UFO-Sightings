{
 "cells": [
  {
   "cell_type": "markdown",
   "metadata": {},
   "source": [
    "## Initial Data Exploration"
   ]
  },
  {
   "cell_type": "code",
   "execution_count": 23,
   "metadata": {},
   "outputs": [],
   "source": [
    "import pandas as pd\n",
    "import numpy as np\n",
    "import matplotlib.pyplot as plt\n",
    "import seaborn as sns\n",
    "\n",
    "from scipy import stats"
   ]
  },
  {
   "cell_type": "markdown",
   "metadata": {},
   "source": [
    "### Read the dataset"
   ]
  },
  {
   "cell_type": "code",
   "execution_count": 24,
   "metadata": {},
   "outputs": [
    {
     "name": "stderr",
     "output_type": "stream",
     "text": [
      "C:\\Users\\Elif Surucu\\AppData\\Local\\Temp\\ipykernel_42732\\4007689688.py:1: DtypeWarning: Columns (5,9) have mixed types. Specify dtype option on import or set low_memory=False.\n",
      "  df_complete = pd.read_csv(\"C:/Users/Elif Surucu/Documents/Flatiron/Assesments/Practice4/UFO-Sightings/complete.csv\", on_bad_lines='skip')\n"
     ]
    },
    {
     "data": {
      "text/html": [
       "<div>\n",
       "<style scoped>\n",
       "    .dataframe tbody tr th:only-of-type {\n",
       "        vertical-align: middle;\n",
       "    }\n",
       "\n",
       "    .dataframe tbody tr th {\n",
       "        vertical-align: top;\n",
       "    }\n",
       "\n",
       "    .dataframe thead th {\n",
       "        text-align: right;\n",
       "    }\n",
       "</style>\n",
       "<table border=\"1\" class=\"dataframe\">\n",
       "  <thead>\n",
       "    <tr style=\"text-align: right;\">\n",
       "      <th></th>\n",
       "      <th>datetime</th>\n",
       "      <th>city</th>\n",
       "      <th>state</th>\n",
       "      <th>country</th>\n",
       "      <th>shape</th>\n",
       "      <th>duration (seconds)</th>\n",
       "      <th>duration (hours/min)</th>\n",
       "      <th>comments</th>\n",
       "      <th>date posted</th>\n",
       "      <th>latitude</th>\n",
       "      <th>longitude</th>\n",
       "    </tr>\n",
       "  </thead>\n",
       "  <tbody>\n",
       "    <tr>\n",
       "      <th>0</th>\n",
       "      <td>10/10/1949 20:30</td>\n",
       "      <td>san marcos</td>\n",
       "      <td>tx</td>\n",
       "      <td>us</td>\n",
       "      <td>cylinder</td>\n",
       "      <td>2700</td>\n",
       "      <td>45 minutes</td>\n",
       "      <td>This event took place in early fall around 194...</td>\n",
       "      <td>4/27/2004</td>\n",
       "      <td>29.8830556</td>\n",
       "      <td>-97.941111</td>\n",
       "    </tr>\n",
       "    <tr>\n",
       "      <th>1</th>\n",
       "      <td>10/10/1949 21:00</td>\n",
       "      <td>lackland afb</td>\n",
       "      <td>tx</td>\n",
       "      <td>NaN</td>\n",
       "      <td>light</td>\n",
       "      <td>7200</td>\n",
       "      <td>1-2 hrs</td>\n",
       "      <td>1949 Lackland AFB&amp;#44 TX.  Lights racing acros...</td>\n",
       "      <td>12/16/2005</td>\n",
       "      <td>29.38421</td>\n",
       "      <td>-98.581082</td>\n",
       "    </tr>\n",
       "    <tr>\n",
       "      <th>2</th>\n",
       "      <td>10/10/1955 17:00</td>\n",
       "      <td>chester (uk/england)</td>\n",
       "      <td>NaN</td>\n",
       "      <td>gb</td>\n",
       "      <td>circle</td>\n",
       "      <td>20</td>\n",
       "      <td>20 seconds</td>\n",
       "      <td>Green/Orange circular disc over Chester&amp;#44 En...</td>\n",
       "      <td>1/21/2008</td>\n",
       "      <td>53.2</td>\n",
       "      <td>-2.916667</td>\n",
       "    </tr>\n",
       "    <tr>\n",
       "      <th>3</th>\n",
       "      <td>10/10/1956 21:00</td>\n",
       "      <td>edna</td>\n",
       "      <td>tx</td>\n",
       "      <td>us</td>\n",
       "      <td>circle</td>\n",
       "      <td>20</td>\n",
       "      <td>1/2 hour</td>\n",
       "      <td>My older brother and twin sister were leaving ...</td>\n",
       "      <td>1/17/2004</td>\n",
       "      <td>28.9783333</td>\n",
       "      <td>-96.645833</td>\n",
       "    </tr>\n",
       "    <tr>\n",
       "      <th>4</th>\n",
       "      <td>10/10/1960 20:00</td>\n",
       "      <td>kaneohe</td>\n",
       "      <td>hi</td>\n",
       "      <td>us</td>\n",
       "      <td>light</td>\n",
       "      <td>900</td>\n",
       "      <td>15 minutes</td>\n",
       "      <td>AS a Marine 1st Lt. flying an FJ4B fighter/att...</td>\n",
       "      <td>1/22/2004</td>\n",
       "      <td>21.4180556</td>\n",
       "      <td>-157.803611</td>\n",
       "    </tr>\n",
       "    <tr>\n",
       "      <th>...</th>\n",
       "      <td>...</td>\n",
       "      <td>...</td>\n",
       "      <td>...</td>\n",
       "      <td>...</td>\n",
       "      <td>...</td>\n",
       "      <td>...</td>\n",
       "      <td>...</td>\n",
       "      <td>...</td>\n",
       "      <td>...</td>\n",
       "      <td>...</td>\n",
       "      <td>...</td>\n",
       "    </tr>\n",
       "    <tr>\n",
       "      <th>88674</th>\n",
       "      <td>9/9/2013 22:00</td>\n",
       "      <td>napa</td>\n",
       "      <td>ca</td>\n",
       "      <td>us</td>\n",
       "      <td>other</td>\n",
       "      <td>1200.0</td>\n",
       "      <td>hour</td>\n",
       "      <td>Napa UFO&amp;#44</td>\n",
       "      <td>9/30/2013</td>\n",
       "      <td>38.297222</td>\n",
       "      <td>-122.284444</td>\n",
       "    </tr>\n",
       "    <tr>\n",
       "      <th>88675</th>\n",
       "      <td>9/9/2013 22:20</td>\n",
       "      <td>vienna</td>\n",
       "      <td>va</td>\n",
       "      <td>us</td>\n",
       "      <td>circle</td>\n",
       "      <td>5.0</td>\n",
       "      <td>5 seconds</td>\n",
       "      <td>Saw a five gold lit cicular craft moving fastl...</td>\n",
       "      <td>9/30/2013</td>\n",
       "      <td>38.901111</td>\n",
       "      <td>-77.265556</td>\n",
       "    </tr>\n",
       "    <tr>\n",
       "      <th>88676</th>\n",
       "      <td>9/9/2013 23:00</td>\n",
       "      <td>edmond</td>\n",
       "      <td>ok</td>\n",
       "      <td>us</td>\n",
       "      <td>cigar</td>\n",
       "      <td>1020.0</td>\n",
       "      <td>17 minutes</td>\n",
       "      <td>2 witnesses 2  miles apart&amp;#44 Red &amp;amp; White...</td>\n",
       "      <td>9/30/2013</td>\n",
       "      <td>35.652778</td>\n",
       "      <td>-97.477778</td>\n",
       "    </tr>\n",
       "    <tr>\n",
       "      <th>88677</th>\n",
       "      <td>9/9/2013 23:00</td>\n",
       "      <td>starr</td>\n",
       "      <td>sc</td>\n",
       "      <td>us</td>\n",
       "      <td>diamond</td>\n",
       "      <td>0.0</td>\n",
       "      <td>2 nights</td>\n",
       "      <td>On September ninth my wife and i noticed stran...</td>\n",
       "      <td>9/30/2013</td>\n",
       "      <td>34.376944</td>\n",
       "      <td>-82.695833</td>\n",
       "    </tr>\n",
       "    <tr>\n",
       "      <th>88678</th>\n",
       "      <td>9/9/2013 23:30</td>\n",
       "      <td>ft. lauderdale</td>\n",
       "      <td>fl</td>\n",
       "      <td>us</td>\n",
       "      <td>oval</td>\n",
       "      <td>0.0</td>\n",
       "      <td>still occuring</td>\n",
       "      <td>Hovering object lit with red and white lights&amp;...</td>\n",
       "      <td>9/30/2013</td>\n",
       "      <td>26.121944</td>\n",
       "      <td>-80.143611</td>\n",
       "    </tr>\n",
       "  </tbody>\n",
       "</table>\n",
       "<p>88679 rows × 11 columns</p>\n",
       "</div>"
      ],
      "text/plain": [
       "               datetime                  city state country     shape  \\\n",
       "0      10/10/1949 20:30            san marcos    tx      us  cylinder   \n",
       "1      10/10/1949 21:00          lackland afb    tx     NaN     light   \n",
       "2      10/10/1955 17:00  chester (uk/england)   NaN      gb    circle   \n",
       "3      10/10/1956 21:00                  edna    tx      us    circle   \n",
       "4      10/10/1960 20:00               kaneohe    hi      us     light   \n",
       "...                 ...                   ...   ...     ...       ...   \n",
       "88674    9/9/2013 22:00                  napa    ca      us     other   \n",
       "88675    9/9/2013 22:20                vienna    va      us    circle   \n",
       "88676    9/9/2013 23:00                edmond    ok      us     cigar   \n",
       "88677    9/9/2013 23:00                 starr    sc      us   diamond   \n",
       "88678    9/9/2013 23:30        ft. lauderdale    fl      us      oval   \n",
       "\n",
       "      duration (seconds) duration (hours/min)  \\\n",
       "0                   2700           45 minutes   \n",
       "1                   7200              1-2 hrs   \n",
       "2                     20           20 seconds   \n",
       "3                     20             1/2 hour   \n",
       "4                    900           15 minutes   \n",
       "...                  ...                  ...   \n",
       "88674             1200.0                 hour   \n",
       "88675                5.0            5 seconds   \n",
       "88676             1020.0           17 minutes   \n",
       "88677                0.0             2 nights   \n",
       "88678                0.0       still occuring   \n",
       "\n",
       "                                                comments date posted  \\\n",
       "0      This event took place in early fall around 194...   4/27/2004   \n",
       "1      1949 Lackland AFB&#44 TX.  Lights racing acros...  12/16/2005   \n",
       "2      Green/Orange circular disc over Chester&#44 En...   1/21/2008   \n",
       "3      My older brother and twin sister were leaving ...   1/17/2004   \n",
       "4      AS a Marine 1st Lt. flying an FJ4B fighter/att...   1/22/2004   \n",
       "...                                                  ...         ...   \n",
       "88674                                       Napa UFO&#44   9/30/2013   \n",
       "88675  Saw a five gold lit cicular craft moving fastl...   9/30/2013   \n",
       "88676  2 witnesses 2  miles apart&#44 Red &amp; White...   9/30/2013   \n",
       "88677  On September ninth my wife and i noticed stran...   9/30/2013   \n",
       "88678  Hovering object lit with red and white lights&...   9/30/2013   \n",
       "\n",
       "         latitude   longitude  \n",
       "0      29.8830556  -97.941111  \n",
       "1        29.38421  -98.581082  \n",
       "2            53.2   -2.916667  \n",
       "3      28.9783333  -96.645833  \n",
       "4      21.4180556 -157.803611  \n",
       "...           ...         ...  \n",
       "88674   38.297222 -122.284444  \n",
       "88675   38.901111  -77.265556  \n",
       "88676   35.652778  -97.477778  \n",
       "88677   34.376944  -82.695833  \n",
       "88678   26.121944  -80.143611  \n",
       "\n",
       "[88679 rows x 11 columns]"
      ]
     },
     "execution_count": 24,
     "metadata": {},
     "output_type": "execute_result"
    }
   ],
   "source": [
    "df_complete = pd.read_csv(\"C:/Users/Elif Surucu/Documents/Flatiron/Assesments/Practice4/UFO-Sightings/complete.csv\", on_bad_lines='skip')\n",
    "\n",
    "\n",
    "df_complete\n"
   ]
  },
  {
   "cell_type": "markdown",
   "metadata": {},
   "source": [
    "### Clean Up Newline Characters in Column Names"
   ]
  },
  {
   "cell_type": "code",
   "execution_count": 25,
   "metadata": {},
   "outputs": [
    {
     "name": "stdout",
     "output_type": "stream",
     "text": [
      "Column names after replacing newline characters:\n",
      "Index(['datetime', 'city', 'state', 'country', 'shape', 'duration (seconds)',\n",
      "       'duration (hours/min)', 'comments', 'date posted', 'latitude',\n",
      "       'longitude'],\n",
      "      dtype='object')\n"
     ]
    }
   ],
   "source": [
    "# Replace newline characters in column names\n",
    "df_complete.columns = df_complete.columns.str.replace('\\n', ' ')\n",
    "print(\"Column names after replacing newline characters:\")\n",
    "print(df_complete.columns)"
   ]
  },
  {
   "cell_type": "code",
   "execution_count": 26,
   "metadata": {},
   "outputs": [
    {
     "name": "stdout",
     "output_type": "stream",
     "text": [
      "Column names after stripping whitespace:\n",
      "Index(['datetime', 'city', 'state', 'country', 'shape', 'duration (seconds)',\n",
      "       'duration (hours/min)', 'comments', 'date posted', 'latitude',\n",
      "       'longitude'],\n",
      "      dtype='object')\n"
     ]
    }
   ],
   "source": [
    "# Strip leading and trailing whitespace\n",
    "df_complete.columns = df_complete.columns.str.strip()\n",
    "print(\"Column names after stripping whitespace:\")\n",
    "print(df_complete.columns)"
   ]
  },
  {
   "cell_type": "code",
   "execution_count": 27,
   "metadata": {},
   "outputs": [
    {
     "name": "stdout",
     "output_type": "stream",
     "text": [
      "Column names after standardizing:\n",
      "Index(['datetime', 'city', 'state', 'country', 'shape', 'duration_(seconds)',\n",
      "       'duration_(hours/min)', 'comments', 'date_posted', 'latitude',\n",
      "       'longitude'],\n",
      "      dtype='object')\n"
     ]
    }
   ],
   "source": [
    "# Standardize column names\n",
    "df_complete.columns = df_complete.columns.str.lower().str.replace(' ', '_')\n",
    "print(\"Column names after standardizing:\")\n",
    "print(df_complete.columns)"
   ]
  },
  {
   "cell_type": "code",
   "execution_count": 28,
   "metadata": {},
   "outputs": [
    {
     "data": {
      "text/html": [
       "<div>\n",
       "<style scoped>\n",
       "    .dataframe tbody tr th:only-of-type {\n",
       "        vertical-align: middle;\n",
       "    }\n",
       "\n",
       "    .dataframe tbody tr th {\n",
       "        vertical-align: top;\n",
       "    }\n",
       "\n",
       "    .dataframe thead th {\n",
       "        text-align: right;\n",
       "    }\n",
       "</style>\n",
       "<table border=\"1\" class=\"dataframe\">\n",
       "  <thead>\n",
       "    <tr style=\"text-align: right;\">\n",
       "      <th></th>\n",
       "      <th>sighting_time</th>\n",
       "      <th>city_name</th>\n",
       "      <th>state_code</th>\n",
       "      <th>country_code</th>\n",
       "      <th>ufo_shape</th>\n",
       "      <th>duration_seconds</th>\n",
       "      <th>duration_text</th>\n",
       "      <th>sighting_comments</th>\n",
       "      <th>report_posted_date</th>\n",
       "      <th>latitude</th>\n",
       "      <th>longitude</th>\n",
       "    </tr>\n",
       "  </thead>\n",
       "  <tbody>\n",
       "    <tr>\n",
       "      <th>0</th>\n",
       "      <td>10/10/1949 20:30</td>\n",
       "      <td>san marcos</td>\n",
       "      <td>tx</td>\n",
       "      <td>us</td>\n",
       "      <td>cylinder</td>\n",
       "      <td>2700</td>\n",
       "      <td>45 minutes</td>\n",
       "      <td>This event took place in early fall around 194...</td>\n",
       "      <td>4/27/2004</td>\n",
       "      <td>29.8830556</td>\n",
       "      <td>-97.941111</td>\n",
       "    </tr>\n",
       "    <tr>\n",
       "      <th>1</th>\n",
       "      <td>10/10/1949 21:00</td>\n",
       "      <td>lackland afb</td>\n",
       "      <td>tx</td>\n",
       "      <td>NaN</td>\n",
       "      <td>light</td>\n",
       "      <td>7200</td>\n",
       "      <td>1-2 hrs</td>\n",
       "      <td>1949 Lackland AFB&amp;#44 TX.  Lights racing acros...</td>\n",
       "      <td>12/16/2005</td>\n",
       "      <td>29.38421</td>\n",
       "      <td>-98.581082</td>\n",
       "    </tr>\n",
       "    <tr>\n",
       "      <th>2</th>\n",
       "      <td>10/10/1955 17:00</td>\n",
       "      <td>chester (uk/england)</td>\n",
       "      <td>NaN</td>\n",
       "      <td>gb</td>\n",
       "      <td>circle</td>\n",
       "      <td>20</td>\n",
       "      <td>20 seconds</td>\n",
       "      <td>Green/Orange circular disc over Chester&amp;#44 En...</td>\n",
       "      <td>1/21/2008</td>\n",
       "      <td>53.2</td>\n",
       "      <td>-2.916667</td>\n",
       "    </tr>\n",
       "    <tr>\n",
       "      <th>3</th>\n",
       "      <td>10/10/1956 21:00</td>\n",
       "      <td>edna</td>\n",
       "      <td>tx</td>\n",
       "      <td>us</td>\n",
       "      <td>circle</td>\n",
       "      <td>20</td>\n",
       "      <td>1/2 hour</td>\n",
       "      <td>My older brother and twin sister were leaving ...</td>\n",
       "      <td>1/17/2004</td>\n",
       "      <td>28.9783333</td>\n",
       "      <td>-96.645833</td>\n",
       "    </tr>\n",
       "    <tr>\n",
       "      <th>4</th>\n",
       "      <td>10/10/1960 20:00</td>\n",
       "      <td>kaneohe</td>\n",
       "      <td>hi</td>\n",
       "      <td>us</td>\n",
       "      <td>light</td>\n",
       "      <td>900</td>\n",
       "      <td>15 minutes</td>\n",
       "      <td>AS a Marine 1st Lt. flying an FJ4B fighter/att...</td>\n",
       "      <td>1/22/2004</td>\n",
       "      <td>21.4180556</td>\n",
       "      <td>-157.803611</td>\n",
       "    </tr>\n",
       "    <tr>\n",
       "      <th>...</th>\n",
       "      <td>...</td>\n",
       "      <td>...</td>\n",
       "      <td>...</td>\n",
       "      <td>...</td>\n",
       "      <td>...</td>\n",
       "      <td>...</td>\n",
       "      <td>...</td>\n",
       "      <td>...</td>\n",
       "      <td>...</td>\n",
       "      <td>...</td>\n",
       "      <td>...</td>\n",
       "    </tr>\n",
       "    <tr>\n",
       "      <th>88674</th>\n",
       "      <td>9/9/2013 22:00</td>\n",
       "      <td>napa</td>\n",
       "      <td>ca</td>\n",
       "      <td>us</td>\n",
       "      <td>other</td>\n",
       "      <td>1200.0</td>\n",
       "      <td>hour</td>\n",
       "      <td>Napa UFO&amp;#44</td>\n",
       "      <td>9/30/2013</td>\n",
       "      <td>38.297222</td>\n",
       "      <td>-122.284444</td>\n",
       "    </tr>\n",
       "    <tr>\n",
       "      <th>88675</th>\n",
       "      <td>9/9/2013 22:20</td>\n",
       "      <td>vienna</td>\n",
       "      <td>va</td>\n",
       "      <td>us</td>\n",
       "      <td>circle</td>\n",
       "      <td>5.0</td>\n",
       "      <td>5 seconds</td>\n",
       "      <td>Saw a five gold lit cicular craft moving fastl...</td>\n",
       "      <td>9/30/2013</td>\n",
       "      <td>38.901111</td>\n",
       "      <td>-77.265556</td>\n",
       "    </tr>\n",
       "    <tr>\n",
       "      <th>88676</th>\n",
       "      <td>9/9/2013 23:00</td>\n",
       "      <td>edmond</td>\n",
       "      <td>ok</td>\n",
       "      <td>us</td>\n",
       "      <td>cigar</td>\n",
       "      <td>1020.0</td>\n",
       "      <td>17 minutes</td>\n",
       "      <td>2 witnesses 2  miles apart&amp;#44 Red &amp;amp; White...</td>\n",
       "      <td>9/30/2013</td>\n",
       "      <td>35.652778</td>\n",
       "      <td>-97.477778</td>\n",
       "    </tr>\n",
       "    <tr>\n",
       "      <th>88677</th>\n",
       "      <td>9/9/2013 23:00</td>\n",
       "      <td>starr</td>\n",
       "      <td>sc</td>\n",
       "      <td>us</td>\n",
       "      <td>diamond</td>\n",
       "      <td>0.0</td>\n",
       "      <td>2 nights</td>\n",
       "      <td>On September ninth my wife and i noticed stran...</td>\n",
       "      <td>9/30/2013</td>\n",
       "      <td>34.376944</td>\n",
       "      <td>-82.695833</td>\n",
       "    </tr>\n",
       "    <tr>\n",
       "      <th>88678</th>\n",
       "      <td>9/9/2013 23:30</td>\n",
       "      <td>ft. lauderdale</td>\n",
       "      <td>fl</td>\n",
       "      <td>us</td>\n",
       "      <td>oval</td>\n",
       "      <td>0.0</td>\n",
       "      <td>still occuring</td>\n",
       "      <td>Hovering object lit with red and white lights&amp;...</td>\n",
       "      <td>9/30/2013</td>\n",
       "      <td>26.121944</td>\n",
       "      <td>-80.143611</td>\n",
       "    </tr>\n",
       "  </tbody>\n",
       "</table>\n",
       "<p>88679 rows × 11 columns</p>\n",
       "</div>"
      ],
      "text/plain": [
       "          sighting_time             city_name state_code country_code  \\\n",
       "0      10/10/1949 20:30            san marcos         tx           us   \n",
       "1      10/10/1949 21:00          lackland afb         tx          NaN   \n",
       "2      10/10/1955 17:00  chester (uk/england)        NaN           gb   \n",
       "3      10/10/1956 21:00                  edna         tx           us   \n",
       "4      10/10/1960 20:00               kaneohe         hi           us   \n",
       "...                 ...                   ...        ...          ...   \n",
       "88674    9/9/2013 22:00                  napa         ca           us   \n",
       "88675    9/9/2013 22:20                vienna         va           us   \n",
       "88676    9/9/2013 23:00                edmond         ok           us   \n",
       "88677    9/9/2013 23:00                 starr         sc           us   \n",
       "88678    9/9/2013 23:30        ft. lauderdale         fl           us   \n",
       "\n",
       "      ufo_shape duration_seconds   duration_text  \\\n",
       "0      cylinder             2700      45 minutes   \n",
       "1         light             7200         1-2 hrs   \n",
       "2        circle               20      20 seconds   \n",
       "3        circle               20        1/2 hour   \n",
       "4         light              900      15 minutes   \n",
       "...         ...              ...             ...   \n",
       "88674     other           1200.0            hour   \n",
       "88675    circle              5.0       5 seconds   \n",
       "88676     cigar           1020.0      17 minutes   \n",
       "88677   diamond              0.0        2 nights   \n",
       "88678      oval              0.0  still occuring   \n",
       "\n",
       "                                       sighting_comments report_posted_date  \\\n",
       "0      This event took place in early fall around 194...          4/27/2004   \n",
       "1      1949 Lackland AFB&#44 TX.  Lights racing acros...         12/16/2005   \n",
       "2      Green/Orange circular disc over Chester&#44 En...          1/21/2008   \n",
       "3      My older brother and twin sister were leaving ...          1/17/2004   \n",
       "4      AS a Marine 1st Lt. flying an FJ4B fighter/att...          1/22/2004   \n",
       "...                                                  ...                ...   \n",
       "88674                                       Napa UFO&#44          9/30/2013   \n",
       "88675  Saw a five gold lit cicular craft moving fastl...          9/30/2013   \n",
       "88676  2 witnesses 2  miles apart&#44 Red &amp; White...          9/30/2013   \n",
       "88677  On September ninth my wife and i noticed stran...          9/30/2013   \n",
       "88678  Hovering object lit with red and white lights&...          9/30/2013   \n",
       "\n",
       "         latitude   longitude  \n",
       "0      29.8830556  -97.941111  \n",
       "1        29.38421  -98.581082  \n",
       "2            53.2   -2.916667  \n",
       "3      28.9783333  -96.645833  \n",
       "4      21.4180556 -157.803611  \n",
       "...           ...         ...  \n",
       "88674   38.297222 -122.284444  \n",
       "88675   38.901111  -77.265556  \n",
       "88676   35.652778  -97.477778  \n",
       "88677   34.376944  -82.695833  \n",
       "88678   26.121944  -80.143611  \n",
       "\n",
       "[88679 rows x 11 columns]"
      ]
     },
     "execution_count": 28,
     "metadata": {},
     "output_type": "execute_result"
    }
   ],
   "source": [
    "# Define a dictionary for renaming columns\n",
    "new_column_names = {\n",
    "    'datetime': 'sighting_time',\n",
    "    'city': 'city_name',\n",
    "    'state': 'state_code',\n",
    "    'country': 'country_code',\n",
    "    'shape': 'ufo_shape',\n",
    "    'duration_(seconds)': 'duration_seconds',\n",
    "    'duration_(hours/min)': 'duration_text',\n",
    "    'comments': 'sighting_comments',\n",
    "    'date_posted': 'report_posted_date',\n",
    "    'latitude': 'latitude',\n",
    "    'longitude': 'longitude'\n",
    "}\n",
    "\n",
    "# Rename the columns\n",
    "df_complete.rename(columns=new_column_names, inplace=True)\n",
    "df_complete"
   ]
  },
  {
   "cell_type": "code",
   "execution_count": 29,
   "metadata": {},
   "outputs": [
    {
     "name": "stdout",
     "output_type": "stream",
     "text": [
      "<class 'pandas.core.frame.DataFrame'>\n",
      "RangeIndex: 88679 entries, 0 to 88678\n",
      "Data columns (total 11 columns):\n",
      " #   Column              Non-Null Count  Dtype  \n",
      "---  ------              --------------  -----  \n",
      " 0   sighting_time       88679 non-null  object \n",
      " 1   city_name           88679 non-null  object \n",
      " 2   state_code          81270 non-null  object \n",
      " 3   country_code        76314 non-null  object \n",
      " 4   ufo_shape           85757 non-null  object \n",
      " 5   duration_seconds    88677 non-null  object \n",
      " 6   duration_text       85660 non-null  object \n",
      " 7   sighting_comments   88644 non-null  object \n",
      " 8   report_posted_date  88679 non-null  object \n",
      " 9   latitude            88679 non-null  object \n",
      " 10  longitude           88679 non-null  float64\n",
      "dtypes: float64(1), object(10)\n",
      "memory usage: 7.4+ MB\n"
     ]
    }
   ],
   "source": [
    "df_complete.info()"
   ]
  },
  {
   "cell_type": "code",
   "execution_count": 30,
   "metadata": {},
   "outputs": [
    {
     "name": "stdout",
     "output_type": "stream",
     "text": [
      "sighting_time             0\n",
      "city_name                 0\n",
      "state_code             7409\n",
      "country_code          12365\n",
      "ufo_shape              2922\n",
      "duration_seconds          2\n",
      "duration_text          3019\n",
      "sighting_comments        35\n",
      "report_posted_date        0\n",
      "latitude                  0\n",
      "longitude                 0\n",
      "dtype: int64\n"
     ]
    }
   ],
   "source": [
    "print(df_complete.isnull().sum())"
   ]
  },
  {
   "cell_type": "code",
   "execution_count": 31,
   "metadata": {},
   "outputs": [
    {
     "name": "stdout",
     "output_type": "stream",
     "text": [
      "sighting_time          0.000000\n",
      "city_name              0.000000\n",
      "state_code             8.354853\n",
      "country_code          13.943549\n",
      "ufo_shape              3.295030\n",
      "duration_seconds       0.002255\n",
      "duration_text          3.404414\n",
      "sighting_comments      0.039468\n",
      "report_posted_date     0.000000\n",
      "latitude               0.000000\n",
      "longitude              0.000000\n",
      "dtype: float64\n"
     ]
    }
   ],
   "source": [
    "print((df_complete.isnull().sum() / len(df_complete)) * 100)"
   ]
  },
  {
   "cell_type": "code",
   "execution_count": 32,
   "metadata": {},
   "outputs": [
    {
     "data": {
      "text/plain": [
       "sighting_time             0\n",
       "city_name                 0\n",
       "state_code             7409\n",
       "country_code          12365\n",
       "ufo_shape              2922\n",
       "duration_seconds          2\n",
       "duration_text          3019\n",
       "sighting_comments        35\n",
       "report_posted_date        0\n",
       "latitude                  0\n",
       "longitude                 0\n",
       "dtype: int64"
      ]
     },
     "execution_count": 32,
     "metadata": {},
     "output_type": "execute_result"
    }
   ],
   "source": [
    "df_complete.isna().sum()"
   ]
  },
  {
   "cell_type": "code",
   "execution_count": 33,
   "metadata": {},
   "outputs": [
    {
     "name": "stdout",
     "output_type": "stream",
     "text": [
      "<class 'pandas.core.frame.DataFrame'>\n",
      "Index: 88677 entries, 0 to 88678\n",
      "Data columns (total 11 columns):\n",
      " #   Column              Non-Null Count  Dtype  \n",
      "---  ------              --------------  -----  \n",
      " 0   sighting_time       88677 non-null  object \n",
      " 1   city_name           88677 non-null  object \n",
      " 2   state_code          81269 non-null  object \n",
      " 3   country_code        76313 non-null  object \n",
      " 4   ufo_shape           85755 non-null  object \n",
      " 5   duration_seconds    88677 non-null  object \n",
      " 6   duration_text       85658 non-null  object \n",
      " 7   sighting_comments   88642 non-null  object \n",
      " 8   report_posted_date  88677 non-null  object \n",
      " 9   latitude            88677 non-null  object \n",
      " 10  longitude           88677 non-null  float64\n",
      "dtypes: float64(1), object(10)\n",
      "memory usage: 8.1+ MB\n"
     ]
    }
   ],
   "source": [
    "df_complete = df_complete.dropna(subset=['duration_seconds'])\n",
    "df_complete.info()"
   ]
  },
  {
   "cell_type": "code",
   "execution_count": 34,
   "metadata": {},
   "outputs": [
    {
     "name": "stdout",
     "output_type": "stream",
     "text": [
      "<class 'pandas.core.frame.DataFrame'>\n",
      "Index: 88677 entries, 0 to 88678\n",
      "Data columns (total 11 columns):\n",
      " #   Column              Non-Null Count  Dtype  \n",
      "---  ------              --------------  -----  \n",
      " 0   sighting_time       88677 non-null  object \n",
      " 1   city_name           88677 non-null  object \n",
      " 2   state_code          88677 non-null  object \n",
      " 3   country_code        88677 non-null  object \n",
      " 4   ufo_shape           88677 non-null  object \n",
      " 5   duration_seconds    88677 non-null  object \n",
      " 6   duration_text       88677 non-null  object \n",
      " 7   sighting_comments   88677 non-null  object \n",
      " 8   report_posted_date  88677 non-null  object \n",
      " 9   latitude            88677 non-null  object \n",
      " 10  longitude           88677 non-null  float64\n",
      "dtypes: float64(1), object(10)\n",
      "memory usage: 8.1+ MB\n"
     ]
    },
    {
     "name": "stderr",
     "output_type": "stream",
     "text": [
      "C:\\Users\\Elif Surucu\\AppData\\Local\\Temp\\ipykernel_42732\\1546857197.py:1: SettingWithCopyWarning: \n",
      "A value is trying to be set on a copy of a slice from a DataFrame\n",
      "\n",
      "See the caveats in the documentation: https://pandas.pydata.org/pandas-docs/stable/user_guide/indexing.html#returning-a-view-versus-a-copy\n",
      "  df_complete['state_code'].fillna('unknown', inplace=True)\n",
      "C:\\Users\\Elif Surucu\\AppData\\Local\\Temp\\ipykernel_42732\\1546857197.py:2: SettingWithCopyWarning: \n",
      "A value is trying to be set on a copy of a slice from a DataFrame\n",
      "\n",
      "See the caveats in the documentation: https://pandas.pydata.org/pandas-docs/stable/user_guide/indexing.html#returning-a-view-versus-a-copy\n",
      "  df_complete['country_code'].fillna('unknown', inplace=True)\n",
      "C:\\Users\\Elif Surucu\\AppData\\Local\\Temp\\ipykernel_42732\\1546857197.py:3: SettingWithCopyWarning: \n",
      "A value is trying to be set on a copy of a slice from a DataFrame\n",
      "\n",
      "See the caveats in the documentation: https://pandas.pydata.org/pandas-docs/stable/user_guide/indexing.html#returning-a-view-versus-a-copy\n",
      "  df_complete['ufo_shape'].fillna('unknown', inplace=True)\n",
      "C:\\Users\\Elif Surucu\\AppData\\Local\\Temp\\ipykernel_42732\\1546857197.py:4: SettingWithCopyWarning: \n",
      "A value is trying to be set on a copy of a slice from a DataFrame\n",
      "\n",
      "See the caveats in the documentation: https://pandas.pydata.org/pandas-docs/stable/user_guide/indexing.html#returning-a-view-versus-a-copy\n",
      "  df_complete['duration_text'].fillna('unknown', inplace=True)\n",
      "C:\\Users\\Elif Surucu\\AppData\\Local\\Temp\\ipykernel_42732\\1546857197.py:5: SettingWithCopyWarning: \n",
      "A value is trying to be set on a copy of a slice from a DataFrame\n",
      "\n",
      "See the caveats in the documentation: https://pandas.pydata.org/pandas-docs/stable/user_guide/indexing.html#returning-a-view-versus-a-copy\n",
      "  df_complete['sighting_comments'].fillna('No comments', inplace=True)\n",
      "C:\\Users\\Elif Surucu\\AppData\\Local\\Temp\\ipykernel_42732\\1546857197.py:6: SettingWithCopyWarning: \n",
      "A value is trying to be set on a copy of a slice from a DataFrame\n",
      "\n",
      "See the caveats in the documentation: https://pandas.pydata.org/pandas-docs/stable/user_guide/indexing.html#returning-a-view-versus-a-copy\n",
      "  df_complete['duration_seconds'].fillna(0, inplace=True)\n"
     ]
    }
   ],
   "source": [
    "df_complete['state_code'].fillna('unknown', inplace=True)\n",
    "df_complete['country_code'].fillna('unknown', inplace=True)\n",
    "df_complete['ufo_shape'].fillna('unknown', inplace=True)\n",
    "df_complete['duration_text'].fillna('unknown', inplace=True)\n",
    "df_complete['sighting_comments'].fillna('No comments', inplace=True)\n",
    "df_complete['duration_seconds'].fillna(0, inplace=True)\n",
    "df_complete.info()"
   ]
  },
  {
   "cell_type": "code",
   "execution_count": 35,
   "metadata": {},
   "outputs": [
    {
     "name": "stdout",
     "output_type": "stream",
     "text": [
      "sighting_time         0\n",
      "city_name             0\n",
      "state_code            0\n",
      "country_code          0\n",
      "ufo_shape             0\n",
      "duration_seconds      0\n",
      "duration_text         0\n",
      "sighting_comments     0\n",
      "report_posted_date    0\n",
      "latitude              0\n",
      "longitude             0\n",
      "dtype: int64\n"
     ]
    }
   ],
   "source": [
    "print(df_complete.isnull().sum())\n"
   ]
  },
  {
   "cell_type": "code",
   "execution_count": 36,
   "metadata": {},
   "outputs": [
    {
     "name": "stdout",
     "output_type": "stream",
     "text": [
      "Feature: sighting_time\n",
      "Unique Values: 76157\n",
      "Top Values:\n",
      "sighting_time\n",
      "7/4/2010 22:00      36\n",
      "7/4/2012 22:00      33\n",
      "11/16/1999 19:00    28\n",
      "7/4/2011 22:00      26\n",
      "10/31/2004 20:00    26\n",
      "9/19/2009 20:00     26\n",
      "7/4/2010 21:00      24\n",
      "7/4/2012 22:30      22\n",
      "11/16/1999 19:05    22\n",
      "7/4/2013 22:00      22\n",
      "Name: count, dtype: int64\n",
      "\n",
      "Feature: city_name\n",
      "Unique Values: 22017\n",
      "Top Values:\n",
      "city_name\n",
      "seattle        570\n",
      "phoenix        488\n",
      "portland       399\n",
      "las vegas      395\n",
      "los angeles    375\n",
      "san diego      361\n",
      "houston        317\n",
      "chicago        295\n",
      "tucson         258\n",
      "miami          258\n",
      "Name: count, dtype: int64\n",
      "\n",
      "Feature: state_code\n",
      "Unique Values: 69\n",
      "Top Values:\n",
      "state_code\n",
      "ca         10449\n",
      "unknown     7408\n",
      "wa          4650\n",
      "fl          4596\n",
      "tx          4041\n",
      "ny          3506\n",
      "az          2938\n",
      "il          2874\n",
      "pa          2780\n",
      "oh          2638\n",
      "Name: count, dtype: int64\n",
      "\n",
      "Feature: country_code\n",
      "Unique Values: 6\n",
      "Top Values:\n",
      "country_code\n",
      "us         70292\n",
      "unknown    12364\n",
      "ca          3266\n",
      "gb          2050\n",
      "au           593\n",
      "de           112\n",
      "Name: count, dtype: int64\n",
      "\n",
      "Feature: ufo_shape\n",
      "Unique Values: 29\n",
      "Top Values:\n",
      "ufo_shape\n",
      "light        17872\n",
      "unknown       9241\n",
      "triangle      8489\n",
      "circle        8453\n",
      "fireball      6562\n",
      "other         6247\n",
      "disk          6005\n",
      "sphere        5755\n",
      "oval          4119\n",
      "formation     2656\n",
      "Name: count, dtype: int64\n",
      "\n",
      "Feature: duration_seconds\n",
      "Unique Values: 732\n",
      "Top Values:\n",
      "duration_seconds\n",
      "300      6472\n",
      "0        5358\n",
      "120      5222\n",
      "600      4775\n",
      "60       4365\n",
      "180      3763\n",
      "900      3065\n",
      "30       2766\n",
      "10       2601\n",
      "300.0    2324\n",
      "Name: count, dtype: int64\n",
      "\n",
      "Feature: duration_text\n",
      "Unique Values: 9789\n",
      "Top Values:\n",
      "duration_text\n",
      "5 minutes     4796\n",
      "unknown       3547\n",
      "2 minutes     3538\n",
      "10 minutes    3383\n",
      "1 minute      3118\n",
      "3 minutes     2553\n",
      "30 seconds    2350\n",
      "15 minutes    2105\n",
      "10 seconds    2016\n",
      "5 seconds     1836\n",
      "Name: count, dtype: int64\n",
      "\n",
      "Feature: sighting_comments\n",
      "Unique Values: 88282\n",
      "Top Values:\n",
      "sighting_comments\n",
      "No comments                                                  35\n",
      "Fireball                                                     12\n",
      "((NUFORC Note:  No information provided by witness.  PD))     9\n",
      "Lights in the sky                                             8\n",
      "UFO                                                           7\n",
      "((NUFORC Note:  Witness provides no information.  PD))        7\n",
      "Lights in the sky.                                            7\n",
      "Bright Light                                                  6\n",
      "lights in the sky                                             6\n",
      "Orange ball of light.                                         6\n",
      "Name: count, dtype: int64\n",
      "\n",
      "Feature: report_posted_date\n",
      "Unique Values: 317\n",
      "Top Values:\n",
      "report_posted_date\n",
      "12/12/2009    1624\n",
      "10/30/2006    1563\n",
      "11/21/2010    1363\n",
      "11/2/1999     1311\n",
      "10/31/2008    1273\n",
      "8/5/2001      1216\n",
      "3/19/2009     1200\n",
      "1/10/2009     1193\n",
      "8/30/2013     1138\n",
      "6/12/2008     1024\n",
      "Name: count, dtype: int64\n",
      "\n",
      "Feature: latitude\n",
      "Unique Values: 25427\n",
      "Top Values:\n",
      "latitude\n",
      "0             1155\n",
      "47.6063889     447\n",
      "40.7141667     439\n",
      "33.4483333     432\n",
      "0.0            339\n",
      "36.1750000     330\n",
      "34.0522222     322\n",
      "32.7152778     285\n",
      "45.5236111     249\n",
      "29.7630556     244\n",
      "Name: count, dtype: int64\n",
      "\n"
     ]
    }
   ],
   "source": [
    "categorical_columns = df_complete.select_dtypes(include='object').columns\n",
    "\n",
    "for col in categorical_columns:\n",
    "    print(f\"Feature: {col}\")\n",
    "    print(f\"Unique Values: {df_complete[col].nunique()}\")\n",
    "    print(f\"Top Values:\\n{df_complete[col].value_counts().head(10)}\\n\")"
   ]
  },
  {
   "cell_type": "markdown",
   "metadata": {},
   "source": [
    "- Sanitization Recommendations"
   ]
  },
  {
   "cell_type": "code",
   "execution_count": 37,
   "metadata": {},
   "outputs": [
    {
     "name": "stderr",
     "output_type": "stream",
     "text": [
      "C:\\Users\\Elif Surucu\\AppData\\Local\\Temp\\ipykernel_42732\\4142211857.py:2: SettingWithCopyWarning: \n",
      "A value is trying to be set on a copy of a slice from a DataFrame.\n",
      "Try using .loc[row_indexer,col_indexer] = value instead\n",
      "\n",
      "See the caveats in the documentation: https://pandas.pydata.org/pandas-docs/stable/user_guide/indexing.html#returning-a-view-versus-a-copy\n",
      "  df_complete['sighting_time'] = pd.to_datetime(df_complete['sighting_time'], errors='coerce')\n"
     ]
    }
   ],
   "source": [
    "# a datetime type for easier analysis\n",
    "df_complete['sighting_time'] = pd.to_datetime(df_complete['sighting_time'], errors='coerce')"
   ]
  },
  {
   "cell_type": "code",
   "execution_count": 38,
   "metadata": {},
   "outputs": [
    {
     "name": "stdout",
     "output_type": "stream",
     "text": [
      "Empty DataFrame\n",
      "Columns: [sighting_time, city_name, state_code, country_code, ufo_shape, duration_seconds, duration_text, sighting_comments, report_posted_date, latitude, longitude]\n",
      "Index: []\n"
     ]
    }
   ],
   "source": [
    "#Identify and correct records where latitude or numerical values ​​are entered incorrectly\n",
    "invalid_cities = df_complete[df_complete['city_name'].str.match(r'^\\d+\\.?\\d*$')]\n",
    "print(invalid_cities)"
   ]
  },
  {
   "cell_type": "code",
   "execution_count": 39,
   "metadata": {},
   "outputs": [
    {
     "name": "stderr",
     "output_type": "stream",
     "text": [
      "C:\\Users\\Elif Surucu\\AppData\\Local\\Temp\\ipykernel_42732\\694026103.py:1: SettingWithCopyWarning: \n",
      "A value is trying to be set on a copy of a slice from a DataFrame.\n",
      "Try using .loc[row_indexer,col_indexer] = value instead\n",
      "\n",
      "See the caveats in the documentation: https://pandas.pydata.org/pandas-docs/stable/user_guide/indexing.html#returning-a-view-versus-a-copy\n",
      "  df_complete['city_name'] = df_complete['city_name'].apply(lambda x: 'unknown' if str(x).replace('.', '').isdigit() else x)\n"
     ]
    }
   ],
   "source": [
    "df_complete['city_name'] = df_complete['city_name'].apply(lambda x: 'unknown' if str(x).replace('.', '').isdigit() else x)"
   ]
  },
  {
   "cell_type": "markdown",
   "metadata": {},
   "source": [
    "Are UFO sightings more common during specific dates or times?"
   ]
  },
  {
   "cell_type": "code",
   "execution_count": 40,
   "metadata": {},
   "outputs": [
    {
     "name": "stderr",
     "output_type": "stream",
     "text": [
      "C:\\Users\\Elif Surucu\\AppData\\Local\\Temp\\ipykernel_42732\\929185260.py:1: SettingWithCopyWarning: \n",
      "A value is trying to be set on a copy of a slice from a DataFrame.\n",
      "Try using .loc[row_indexer,col_indexer] = value instead\n",
      "\n",
      "See the caveats in the documentation: https://pandas.pydata.org/pandas-docs/stable/user_guide/indexing.html#returning-a-view-versus-a-copy\n",
      "  df_complete['year'] = df_complete['sighting_time'].dt.year\n",
      "C:\\Users\\Elif Surucu\\AppData\\Local\\Temp\\ipykernel_42732\\929185260.py:2: SettingWithCopyWarning: \n",
      "A value is trying to be set on a copy of a slice from a DataFrame.\n",
      "Try using .loc[row_indexer,col_indexer] = value instead\n",
      "\n",
      "See the caveats in the documentation: https://pandas.pydata.org/pandas-docs/stable/user_guide/indexing.html#returning-a-view-versus-a-copy\n",
      "  df_complete['month'] = df_complete['sighting_time'].dt.month\n"
     ]
    },
    {
     "data": {
      "text/plain": [
       "<Axes: title={'center': 'UFO Sightings Over Years'}, xlabel='year'>"
      ]
     },
     "execution_count": 40,
     "metadata": {},
     "output_type": "execute_result"
    },
    {
     "data": {
      "image/png": "[encoded data removed]",
      "text/plain": [
       "<Figure size 1000x600 with 1 Axes>"
      ]
     },
     "metadata": {},
     "output_type": "display_data"
    }
   ],
   "source": [
    "df_complete['year'] = df_complete['sighting_time'].dt.year\n",
    "df_complete['month'] = df_complete['sighting_time'].dt.month\n",
    "\n",
    "\n",
    "sightings_per_year = df_complete.groupby('year').size()\n",
    "sightings_per_year.plot(kind='line', figsize=(10, 6), title=\"UFO Sightings Over Years\")"
   ]
  },
  {
   "cell_type": "markdown",
   "metadata": {},
   "source": [
    "There is a sharp increase in sightings post-1980, peaking around the 2000s."
   ]
  },
  {
   "cell_type": "code",
   "execution_count": 41,
   "metadata": {},
   "outputs": [
    {
     "name": "stderr",
     "output_type": "stream",
     "text": [
      "C:\\Users\\Elif Surucu\\AppData\\Local\\Temp\\ipykernel_42732\\2527963484.py:2: SettingWithCopyWarning: \n",
      "A value is trying to be set on a copy of a slice from a DataFrame.\n",
      "Try using .loc[row_indexer,col_indexer] = value instead\n",
      "\n",
      "See the caveats in the documentation: https://pandas.pydata.org/pandas-docs/stable/user_guide/indexing.html#returning-a-view-versus-a-copy\n",
      "  df_complete['hour'] = df_complete['sighting_time'].dt.hour\n"
     ]
    },
    {
     "data": {
      "text/plain": [
       "<Axes: title={'center': 'UFO Sightings by Hour of Day'}, xlabel='hour'>"
      ]
     },
     "execution_count": 41,
     "metadata": {},
     "output_type": "execute_result"
    },
    {
     "data": {
      "image/png": "[encoded data removed]",
      "text/plain": [
       "<Figure size 1000x600 with 1 Axes>"
      ]
     },
     "metadata": {},
     "output_type": "display_data"
    }
   ],
   "source": [
    "#Analyze sightings by hour of the day\n",
    "df_complete['hour'] = df_complete['sighting_time'].dt.hour\n",
    "sightings_by_hour = df_complete.groupby('hour').size()\n",
    "sightings_by_hour.plot(kind='bar', figsize=(10, 6), title=\"UFO Sightings by Hour of Day\")"
   ]
  },
  {
   "cell_type": "markdown",
   "metadata": {},
   "source": [
    "Evening and night hours (8 PM to midnight) have the highest number of sightings, with a steep decline in the early morning hours."
   ]
  },
  {
   "cell_type": "markdown",
   "metadata": {},
   "source": [
    "Which cities, states, or countries have the most UFO activity?"
   ]
  },
  {
   "cell_type": "code",
   "execution_count": 42,
   "metadata": {},
   "outputs": [
    {
     "data": {
      "text/plain": [
       "<Axes: title={'center': 'UFO Sightings by State'}, xlabel='state_code'>"
      ]
     },
     "execution_count": 42,
     "metadata": {},
     "output_type": "execute_result"
    },
    {
     "data": {
      "image/png": "[encoded data removed]",
      "text/plain": [
       "<Figure size 1000x600 with 1 Axes>"
      ]
     },
     "metadata": {},
     "output_type": "display_data"
    }
   ],
   "source": [
    "df_complete['city_name'].value_counts().head(10).plot(kind='bar', figsize=(10, 6), title=\"Top 10 Cities with Most UFO Sightings\")\n",
    "df_complete['state_code'].value_counts().plot(kind='bar', figsize=(10, 6), title=\"UFO Sightings by State\")"
   ]
  },
  {
   "cell_type": "code",
   "execution_count": 43,
   "metadata": {},
   "outputs": [
    {
     "data": {
      "text/plain": [
       "<Axes: title={'center': 'UFO Sightings by Month'}, xlabel='sighting_time'>"
      ]
     },
     "execution_count": 43,
     "metadata": {},
     "output_type": "execute_result"
    },
    {
     "data": {
      "image/png": "[encoded data removed]",
      "text/plain": [
       "<Figure size 1000x600 with 1 Axes>"
      ]
     },
     "metadata": {},
     "output_type": "display_data"
    }
   ],
   "source": [
    "sightings_by_month = df_complete.groupby(df_complete['sighting_time'].dt.month).size()\n",
    "sightings_by_month.plot(kind='bar', figsize=(10, 6), title=\"UFO Sightings by Month\")"
   ]
  },
  {
   "cell_type": "code",
   "execution_count": 44,
   "metadata": {},
   "outputs": [
    {
     "name": "stderr",
     "output_type": "stream",
     "text": [
      "C:\\Users\\Elif Surucu\\AppData\\Local\\Temp\\ipykernel_42732\\898830771.py:1: SettingWithCopyWarning: \n",
      "A value is trying to be set on a copy of a slice from a DataFrame.\n",
      "Try using .loc[row_indexer,col_indexer] = value instead\n",
      "\n",
      "See the caveats in the documentation: https://pandas.pydata.org/pandas-docs/stable/user_guide/indexing.html#returning-a-view-versus-a-copy\n",
      "  df_complete['decade'] = (df_complete['year'] // 10) * 10\n"
     ]
    },
    {
     "data": {
      "text/plain": [
       "<Axes: title={'center': 'UFO Sightings by Decade'}, xlabel='decade'>"
      ]
     },
     "execution_count": 44,
     "metadata": {},
     "output_type": "execute_result"
    },
    {
     "data": {
      "image/png": "[encoded data removed]",
      "text/plain": [
       "<Figure size 1000x600 with 1 Axes>"
      ]
     },
     "metadata": {},
     "output_type": "display_data"
    }
   ],
   "source": [
    "df_complete['decade'] = (df_complete['year'] // 10) * 10\n",
    "sightings_by_decade = df_complete.groupby('decade').size()\n",
    "sightings_by_decade.plot(kind='bar', figsize=(10, 6), title=\"UFO Sightings by Decade\")"
   ]
  },
  {
   "cell_type": "code",
   "execution_count": 45,
   "metadata": {},
   "outputs": [
    {
     "data": {
      "text/plain": [
       "<Axes: title={'center': 'Top 10 States with Most UFO Sightings'}, xlabel='state_code'>"
      ]
     },
     "execution_count": 45,
     "metadata": {},
     "output_type": "execute_result"
    },
    {
     "data": {
      "image/png": "[encoded data removed]",
      "text/plain": [
       "<Figure size 1000x600 with 1 Axes>"
      ]
     },
     "metadata": {},
     "output_type": "display_data"
    }
   ],
   "source": [
    "top_states = df_complete['state_code'].value_counts().head(10)\n",
    "top_states.plot(kind='bar', figsize=(10, 6), title=\"Top 10 States with Most UFO Sightings\")"
   ]
  },
  {
   "cell_type": "markdown",
   "metadata": {},
   "source": [
    "Address Missing Data\n",
    "We investigate records with unknown state codes. We can try imputing missing states using the city_name column."
   ]
  },
  {
   "cell_type": "code",
   "execution_count": 46,
   "metadata": {},
   "outputs": [
    {
     "name": "stdout",
     "output_type": "stream",
     "text": [
      "Number of records with unknown state codes: 7408\n"
     ]
    },
    {
     "data": {
      "text/html": [
       "<div>\n",
       "<style scoped>\n",
       "    .dataframe tbody tr th:only-of-type {\n",
       "        vertical-align: middle;\n",
       "    }\n",
       "\n",
       "    .dataframe tbody tr th {\n",
       "        vertical-align: top;\n",
       "    }\n",
       "\n",
       "    .dataframe thead th {\n",
       "        text-align: right;\n",
       "    }\n",
       "</style>\n",
       "<table border=\"1\" class=\"dataframe\">\n",
       "  <thead>\n",
       "    <tr style=\"text-align: right;\">\n",
       "      <th></th>\n",
       "      <th>sighting_time</th>\n",
       "      <th>city_name</th>\n",
       "      <th>state_code</th>\n",
       "      <th>country_code</th>\n",
       "      <th>ufo_shape</th>\n",
       "      <th>duration_seconds</th>\n",
       "      <th>duration_text</th>\n",
       "      <th>sighting_comments</th>\n",
       "      <th>report_posted_date</th>\n",
       "      <th>latitude</th>\n",
       "      <th>longitude</th>\n",
       "      <th>year</th>\n",
       "      <th>month</th>\n",
       "      <th>hour</th>\n",
       "      <th>decade</th>\n",
       "    </tr>\n",
       "  </thead>\n",
       "  <tbody>\n",
       "    <tr>\n",
       "      <th>2</th>\n",
       "      <td>1955-10-10 17:00:00</td>\n",
       "      <td>chester (uk/england)</td>\n",
       "      <td>unknown</td>\n",
       "      <td>gb</td>\n",
       "      <td>circle</td>\n",
       "      <td>20</td>\n",
       "      <td>20 seconds</td>\n",
       "      <td>Green/Orange circular disc over Chester&amp;#44 En...</td>\n",
       "      <td>1/21/2008</td>\n",
       "      <td>53.2</td>\n",
       "      <td>-2.916667</td>\n",
       "      <td>1955.0</td>\n",
       "      <td>10.0</td>\n",
       "      <td>17.0</td>\n",
       "      <td>1950.0</td>\n",
       "    </tr>\n",
       "    <tr>\n",
       "      <th>6</th>\n",
       "      <td>1965-10-10 21:00:00</td>\n",
       "      <td>penarth (uk/wales)</td>\n",
       "      <td>unknown</td>\n",
       "      <td>gb</td>\n",
       "      <td>circle</td>\n",
       "      <td>180</td>\n",
       "      <td>about 3 mins</td>\n",
       "      <td>penarth uk  circle  3mins  stayed 30ft above m...</td>\n",
       "      <td>2/14/2006</td>\n",
       "      <td>51.434722</td>\n",
       "      <td>-3.180000</td>\n",
       "      <td>1965.0</td>\n",
       "      <td>10.0</td>\n",
       "      <td>21.0</td>\n",
       "      <td>1960.0</td>\n",
       "    </tr>\n",
       "    <tr>\n",
       "      <th>18</th>\n",
       "      <td>1973-10-10 23:00:00</td>\n",
       "      <td>bermuda nas</td>\n",
       "      <td>unknown</td>\n",
       "      <td>unknown</td>\n",
       "      <td>light</td>\n",
       "      <td>20</td>\n",
       "      <td>20 sec.</td>\n",
       "      <td>saw fast moving blip on the radar scope thin w...</td>\n",
       "      <td>1/11/2002</td>\n",
       "      <td>32.364167</td>\n",
       "      <td>-64.678611</td>\n",
       "      <td>1973.0</td>\n",
       "      <td>10.0</td>\n",
       "      <td>23.0</td>\n",
       "      <td>1970.0</td>\n",
       "    </tr>\n",
       "    <tr>\n",
       "      <th>21</th>\n",
       "      <td>1974-10-10 21:30:00</td>\n",
       "      <td>cardiff (uk/wales)</td>\n",
       "      <td>unknown</td>\n",
       "      <td>gb</td>\n",
       "      <td>disk</td>\n",
       "      <td>1200</td>\n",
       "      <td>20 minutes</td>\n",
       "      <td>back in 1974 I was 19 at the time and  lived i...</td>\n",
       "      <td>2/1/2007</td>\n",
       "      <td>51.5</td>\n",
       "      <td>-3.200000</td>\n",
       "      <td>1974.0</td>\n",
       "      <td>10.0</td>\n",
       "      <td>21.0</td>\n",
       "      <td>1970.0</td>\n",
       "    </tr>\n",
       "    <tr>\n",
       "      <th>25</th>\n",
       "      <td>1976-10-10 22:00:00</td>\n",
       "      <td>stoke mandeville (uk/england)</td>\n",
       "      <td>unknown</td>\n",
       "      <td>gb</td>\n",
       "      <td>cigar</td>\n",
       "      <td>3</td>\n",
       "      <td>3 seconds</td>\n",
       "      <td>White object over Buckinghamshire UK.</td>\n",
       "      <td>12/12/2009</td>\n",
       "      <td>51.783333</td>\n",
       "      <td>-0.783333</td>\n",
       "      <td>1976.0</td>\n",
       "      <td>10.0</td>\n",
       "      <td>22.0</td>\n",
       "      <td>1970.0</td>\n",
       "    </tr>\n",
       "  </tbody>\n",
       "</table>\n",
       "</div>"
      ],
      "text/plain": [
       "         sighting_time                      city_name state_code country_code  \\\n",
       "2  1955-10-10 17:00:00           chester (uk/england)    unknown           gb   \n",
       "6  1965-10-10 21:00:00             penarth (uk/wales)    unknown           gb   \n",
       "18 1973-10-10 23:00:00                    bermuda nas    unknown      unknown   \n",
       "21 1974-10-10 21:30:00             cardiff (uk/wales)    unknown           gb   \n",
       "25 1976-10-10 22:00:00  stoke mandeville (uk/england)    unknown           gb   \n",
       "\n",
       "   ufo_shape duration_seconds duration_text  \\\n",
       "2     circle               20    20 seconds   \n",
       "6     circle              180  about 3 mins   \n",
       "18     light               20       20 sec.   \n",
       "21      disk             1200    20 minutes   \n",
       "25     cigar                3     3 seconds   \n",
       "\n",
       "                                    sighting_comments report_posted_date  \\\n",
       "2   Green/Orange circular disc over Chester&#44 En...          1/21/2008   \n",
       "6   penarth uk  circle  3mins  stayed 30ft above m...          2/14/2006   \n",
       "18  saw fast moving blip on the radar scope thin w...          1/11/2002   \n",
       "21  back in 1974 I was 19 at the time and  lived i...           2/1/2007   \n",
       "25              White object over Buckinghamshire UK.         12/12/2009   \n",
       "\n",
       "     latitude  longitude    year  month  hour  decade  \n",
       "2        53.2  -2.916667  1955.0   10.0  17.0  1950.0  \n",
       "6   51.434722  -3.180000  1965.0   10.0  21.0  1960.0  \n",
       "18  32.364167 -64.678611  1973.0   10.0  23.0  1970.0  \n",
       "21       51.5  -3.200000  1974.0   10.0  21.0  1970.0  \n",
       "25  51.783333  -0.783333  1976.0   10.0  22.0  1970.0  "
      ]
     },
     "execution_count": 46,
     "metadata": {},
     "output_type": "execute_result"
    }
   ],
   "source": [
    "unknown_states = df_complete[df_complete['state_code'] == 'unknown']\n",
    "print(f\"Number of records with unknown state codes: {len(unknown_states)}\")\n",
    "unknown_states.head()"
   ]
  }
 ],
 "metadata": {
  "kernelspec": {
   "display_name": "Cohort_Env",
   "language": "python",
   "name": "python3"
  },
  "language_info": {
   "codemirror_mode": {
    "name": "ipython",
    "version": 3
   },
   "file_extension": ".py",
   "mimetype": "text/x-python",
   "name": "python",
   "nbconvert_exporter": "python",
   "pygments_lexer": "ipython3",
   "version": "3.8.19"
  }
 },
 "nbformat": 4,
 "nbformat_minor": 2
}
